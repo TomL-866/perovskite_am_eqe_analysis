{
 "cells": [
  {
   "cell_type": "code",
   "execution_count": 5,
   "metadata": {},
   "outputs": [],
   "source": [
    "import numpy as np\n",
    "from scipy.interpolate import interp1d\n",
    "\n",
    "# Load data from files\n",
    "to_add = np.loadtxt(\"to_add.txt\", skiprows=1)\n",
    "AM1 = np.loadtxt(\"AM1.0.txt\", skiprows=1)\n",
    "AM1_header = np.loadtxt(\"AM1.0.txt\", max_rows=1, dtype=str)\n",
    "\n",
    "# Create interpolation function\n",
    "interp_func = interp1d(to_add[:, 0], to_add[:, 1], fill_value=\"extrapolate\")\n",
    "\n",
    "# Create new array that matches the wavelength values in the AM1 file\n",
    "new_values = interp_func(AM1[:, 0])\n",
    "\n",
    "# Replace the third column of the AM1 file with the new array\n",
    "AM1[:, 3] = new_values\n",
    "\n",
    "# Save the modified AM1 file\n",
    "np.savetxt(\n",
    "    \"AM1.0_modified.txt\", AM1, header=\" \".join(AM1_header), comments=\"\", fmt=\"%1.4e\"\n",
    ")"
   ]
  }
 ],
 "metadata": {
  "kernelspec": {
   "display_name": "Python 3",
   "language": "python",
   "name": "python3"
  },
  "language_info": {
   "codemirror_mode": {
    "name": "ipython",
    "version": 3
   },
   "file_extension": ".py",
   "mimetype": "text/x-python",
   "name": "python",
   "nbconvert_exporter": "python",
   "pygments_lexer": "ipython3",
   "version": "3.12.2"
  }
 },
 "nbformat": 4,
 "nbformat_minor": 2
}
