{
 "cells": [
  {
   "cell_type": "code",
   "execution_count": 2,
   "metadata": {},
   "outputs": [],
   "source": [
    "# Import packages\n",
    "import matplotlib.pyplot as plt\n",
    "import matplotlib\n",
    "import numpy as np\n",
    "\n",
    "# Read data from SMARTS output file\n",
    "AM10 = np.loadtxt(\"./Solar Spectra by Airmass/AM1.0.txt\", skiprows=1)\n",
    "AM125 = np.loadtxt(\"./Solar Spectra by Airmass/AM1.25.txt\", skiprows=1)\n",
    "AM15 = np.loadtxt(\"./Solar Spectra by Airmass/AM1.5.txt\", skiprows=1)\n",
    "AM175 = np.loadtxt(\"./Solar Spectra by Airmass/AM1.75.txt\", skiprows=1)\n",
    "AM20 = np.loadtxt(\"./Solar Spectra by Airmass/AM2.0.txt\", skiprows=1)\n",
    "\n",
    "# PGF Plots\n",
    "plt.rcParams.update({\"font.size\": 20})\n",
    "\n",
    "matplotlib.use(\"pgf\")\n",
    "matplotlib.rcParams.update(\n",
    "    {\n",
    "        \"pgf.texsystem\": \"pdflatex\",\n",
    "        \"font.family\": \"serif\",\n",
    "        \"font.serif\": [\"Times New Roman\", \"CMU Serif\"],  #  Fallback to CMU Serif\n",
    "        \"text.usetex\": True,\n",
    "        \"pgf.rcfonts\": False,\n",
    "    }\n",
    ")\n",
    "plt.style.use(\"seaborn-v0_8-bright\")\n",
    "\n",
    "colors = [\n",
    "    \"#c44601\",\n",
    "    \"#f57600\",\n",
    "    \"#8babf1\",\n",
    "    \"#0073e6\",\n",
    "    \"#5ba300\",\n",
    "]  # Store 5 colour-blind friendly colours\n",
    "# Plot solar spectrum for each airmass, using Global_tilted_irradiance (W/m^2/nm) on y-axis and wavelength (nm) on x-axis\n",
    "plt.figure()\n",
    "plt.plot(AM10[:, 0], AM10[:, 3], label=\"AM0\", color=colors[0])\n",
    "plt.plot(AM125[:, 0], AM125[:, 3], label=\"AM1.25\", color=colors[1])\n",
    "plt.plot(AM15[:, 0], AM15[:, 3], label=\"AM1.5\", color=colors[2])\n",
    "plt.plot(AM175[:, 0], AM175[:, 3], label=\"AM1.75\", color=colors[3])\n",
    "plt.plot(AM20[:, 0], AM20[:, 3], label=\"AM2.0\", color=colors[4])\n",
    "plt.legend()\n",
    "plt.xlabel(\"Wavelength ($nm$)\")\n",
    "plt.ylabel(\"Global tilted irradiance ($Wm^{-2}nm^{-1}$)\")\n",
    "plt.title(\"Solar spectrum for different airmasses\")\n",
    "plt.savefig(\"SolarSpectrum.pgf\", bbox_inches=\"tight\")"
   ]
  }
 ],
 "metadata": {
  "kernelspec": {
   "display_name": "Python 3",
   "language": "python",
   "name": "python3"
  },
  "language_info": {
   "codemirror_mode": {
    "name": "ipython",
    "version": 3
   },
   "file_extension": ".py",
   "mimetype": "text/x-python",
   "name": "python",
   "nbconvert_exporter": "python",
   "pygments_lexer": "ipython3",
   "version": "3.12.2"
  },
  "orig_nbformat": 4
 },
 "nbformat": 4,
 "nbformat_minor": 2
}
